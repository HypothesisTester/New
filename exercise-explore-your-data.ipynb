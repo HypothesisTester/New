{
 "cells": [
  {
   "cell_type": "markdown",
   "id": "d8f10c03",
   "metadata": {
    "papermill": {
     "duration": 0.006951,
     "end_time": "2023-09-07T09:03:04.379112",
     "exception": false,
     "start_time": "2023-09-07T09:03:04.372161",
     "status": "completed"
    },
    "tags": []
   },
   "source": [
    "**[Machine Learning Course Home Page](https://www.kaggle.com/learn/machine-learning)**\n",
    "\n",
    "---\n"
   ]
  },
  {
   "cell_type": "markdown",
   "id": "16ac7487",
   "metadata": {
    "papermill": {
     "duration": 0.005474,
     "end_time": "2023-09-07T09:03:04.390585",
     "exception": false,
     "start_time": "2023-09-07T09:03:04.385111",
     "status": "completed"
    },
    "tags": []
   },
   "source": [
    "This exercise will test your ability to read a data file and understand statistics about the data.\n",
    "\n",
    "In later exercises, you will apply techniques to filter the data, build a machine learning model, and iteratively improve your model.\n",
    "\n",
    "The course examples use data from Melbourne. To ensure you can apply these techniques on your own, you will have to apply them to a new dataset (with house prices from Iowa).\n",
    "\n",
    "The exercises use a \"notebook\" coding environment.  In case you are unfamiliar with notebooks, we have a [90-second intro video](https://www.youtube.com/watch?v=4C2qMnaIKL4).\n",
    "\n",
    "# Exercises\n",
    "\n",
    "Run the following cell to set up code-checking, which will verify your work as you go."
   ]
  },
  {
   "cell_type": "code",
   "execution_count": 1,
   "id": "688f9ec4",
   "metadata": {
    "collapsed": true,
    "execution": {
     "iopub.execute_input": "2023-09-07T09:03:04.404880Z",
     "iopub.status.busy": "2023-09-07T09:03:04.403982Z",
     "iopub.status.idle": "2023-09-07T09:03:04.857882Z",
     "shell.execute_reply": "2023-09-07T09:03:04.856466Z"
    },
    "jupyter": {
     "outputs_hidden": true
    },
    "papermill": {
     "duration": 0.464713,
     "end_time": "2023-09-07T09:03:04.860961",
     "exception": false,
     "start_time": "2023-09-07T09:03:04.396248",
     "status": "completed"
    },
    "tags": []
   },
   "outputs": [
    {
     "name": "stdout",
     "output_type": "stream",
     "text": [
      "Setup Complete\n"
     ]
    }
   ],
   "source": [
    "# Set up code checking\n",
    "from learntools.core import binder\n",
    "binder.bind(globals())\n",
    "from learntools.machine_learning.ex2 import *\n",
    "print(\"Setup Complete\")"
   ]
  },
  {
   "cell_type": "markdown",
   "id": "eb60583d",
   "metadata": {
    "papermill": {
     "duration": 0.00555,
     "end_time": "2023-09-07T09:03:04.872547",
     "exception": false,
     "start_time": "2023-09-07T09:03:04.866997",
     "status": "completed"
    },
    "tags": []
   },
   "source": [
    "## Step 1: Loading Data\n",
    "Read the Iowa data file into a Pandas DataFrame called `home_data`."
   ]
  },
  {
   "cell_type": "code",
   "execution_count": 2,
   "id": "f0b65f38",
   "metadata": {
    "collapsed": true,
    "execution": {
     "iopub.execute_input": "2023-09-07T09:03:04.886856Z",
     "iopub.status.busy": "2023-09-07T09:03:04.885194Z",
     "iopub.status.idle": "2023-09-07T09:03:04.897073Z",
     "shell.execute_reply": "2023-09-07T09:03:04.895898Z"
    },
    "jupyter": {
     "outputs_hidden": true
    },
    "papermill": {
     "duration": 0.021697,
     "end_time": "2023-09-07T09:03:04.899851",
     "exception": false,
     "start_time": "2023-09-07T09:03:04.878154",
     "status": "completed"
    },
    "tags": []
   },
   "outputs": [
    {
     "data": {
      "application/javascript": [
       "parent.postMessage({\"jupyterEvent\": \"custom.exercise_interaction\", \"data\": {\"outcomeType\": 4, \"interactionType\": 1, \"questionType\": 1, \"questionId\": \"1_LoadHomeData\", \"learnToolsVersion\": \"0.3.4\", \"valueTowardsCompletion\": 0.0, \"failureMessage\": \"\", \"exceptionClass\": \"\", \"trace\": \"\"}}, \"*\")"
      ],
      "text/plain": [
       "<IPython.core.display.Javascript object>"
      ]
     },
     "metadata": {},
     "output_type": "display_data"
    },
    {
     "data": {
      "text/markdown": [
       "<span style=\"color:#ccaa33\">Check:</span> When you've updated the starter code, `check()` will tell you whether your code is correct. You need to update the code that creates variable `home_data`"
      ],
      "text/plain": [
       "Check: When you've updated the starter code, `check()` will tell you whether your code is correct. You need to update the code that creates variable `home_data`"
      ]
     },
     "metadata": {},
     "output_type": "display_data"
    }
   ],
   "source": [
    "import pandas as pd\n",
    "\n",
    "# Path of the file to read\n",
    "iowa_file_path = '../input/home-data-for-ml-course/train.csv'\n",
    "\n",
    "# Fill in the line below to read the file into a variable home_data\n",
    "home_data = ____\n",
    "\n",
    "# Call line below with no argument to check that you've loaded the data correctly\n",
    "step_1.check()"
   ]
  },
  {
   "cell_type": "code",
   "execution_count": 3,
   "id": "6fa9426a",
   "metadata": {
    "collapsed": true,
    "execution": {
     "iopub.execute_input": "2023-09-07T09:03:04.916017Z",
     "iopub.status.busy": "2023-09-07T09:03:04.915301Z",
     "iopub.status.idle": "2023-09-07T09:03:04.919279Z",
     "shell.execute_reply": "2023-09-07T09:03:04.918399Z"
    },
    "jupyter": {
     "outputs_hidden": true
    },
    "papermill": {
     "duration": 0.015044,
     "end_time": "2023-09-07T09:03:04.921967",
     "exception": false,
     "start_time": "2023-09-07T09:03:04.906923",
     "status": "completed"
    },
    "tags": []
   },
   "outputs": [],
   "source": [
    "# Lines below will give you a hint or solution code\n",
    "#step_1.hint()\n",
    "#step_1.solution()"
   ]
  },
  {
   "cell_type": "markdown",
   "id": "8cd51984",
   "metadata": {
    "papermill": {
     "duration": 0.006132,
     "end_time": "2023-09-07T09:03:04.934894",
     "exception": false,
     "start_time": "2023-09-07T09:03:04.928762",
     "status": "completed"
    },
    "tags": []
   },
   "source": [
    "## Step 2: Review The Data\n",
    "Use the command you learned to view summary statistics of the data. Then fill in variables to answer the following questions"
   ]
  },
  {
   "cell_type": "code",
   "execution_count": 4,
   "id": "76f62ae1",
   "metadata": {
    "collapsed": true,
    "execution": {
     "iopub.execute_input": "2023-09-07T09:03:04.949659Z",
     "iopub.status.busy": "2023-09-07T09:03:04.949262Z",
     "iopub.status.idle": "2023-09-07T09:03:04.955700Z",
     "shell.execute_reply": "2023-09-07T09:03:04.954615Z"
    },
    "jupyter": {
     "outputs_hidden": true
    },
    "papermill": {
     "duration": 0.017053,
     "end_time": "2023-09-07T09:03:04.958373",
     "exception": false,
     "start_time": "2023-09-07T09:03:04.941320",
     "status": "completed"
    },
    "tags": []
   },
   "outputs": [
    {
     "data": {
      "text/markdown": [],
      "text/plain": [
       "<learntools.core.constants.PlaceholderValue at 0x78eac2e48160>"
      ]
     },
     "execution_count": 4,
     "metadata": {},
     "output_type": "execute_result"
    }
   ],
   "source": [
    "# Print summary statistics in next line\n",
    "____"
   ]
  },
  {
   "cell_type": "code",
   "execution_count": 5,
   "id": "0ad2eb75",
   "metadata": {
    "execution": {
     "iopub.execute_input": "2023-09-07T09:03:04.974321Z",
     "iopub.status.busy": "2023-09-07T09:03:04.973543Z",
     "iopub.status.idle": "2023-09-07T09:03:04.982813Z",
     "shell.execute_reply": "2023-09-07T09:03:04.981957Z"
    },
    "papermill": {
     "duration": 0.019847,
     "end_time": "2023-09-07T09:03:04.985096",
     "exception": false,
     "start_time": "2023-09-07T09:03:04.965249",
     "status": "completed"
    },
    "tags": []
   },
   "outputs": [
    {
     "data": {
      "application/javascript": [
       "parent.postMessage({\"jupyterEvent\": \"custom.exercise_interaction\", \"data\": {\"outcomeType\": 4, \"interactionType\": 1, \"questionType\": 1, \"questionId\": \"2_HomeDescription\", \"learnToolsVersion\": \"0.3.4\", \"valueTowardsCompletion\": 0.0, \"failureMessage\": \"\", \"exceptionClass\": \"\", \"trace\": \"\"}}, \"*\")"
      ],
      "text/plain": [
       "<IPython.core.display.Javascript object>"
      ]
     },
     "metadata": {},
     "output_type": "display_data"
    },
    {
     "data": {
      "text/markdown": [
       "<span style=\"color:#ccaa33\">Check:</span> When you've updated the starter code, `check()` will tell you whether your code is correct. You need to update the code that creates variables `avg_lot_size`, `newest_home_age`"
      ],
      "text/plain": [
       "Check: When you've updated the starter code, `check()` will tell you whether your code is correct. You need to update the code that creates variables `avg_lot_size`, `newest_home_age`"
      ]
     },
     "metadata": {},
     "output_type": "display_data"
    }
   ],
   "source": [
    "# What is the average lot size (rounded to nearest integer)?\n",
    "avg_lot_size = ____\n",
    "\n",
    "# As of today, how old is the newest home (current year - the date in which it was built)\n",
    "newest_home_age = ____\n",
    "\n",
    "# Checks your answers\n",
    "step_2.check()"
   ]
  },
  {
   "cell_type": "code",
   "execution_count": 6,
   "id": "429e28b8",
   "metadata": {
    "collapsed": true,
    "execution": {
     "iopub.execute_input": "2023-09-07T09:03:05.002134Z",
     "iopub.status.busy": "2023-09-07T09:03:05.001188Z",
     "iopub.status.idle": "2023-09-07T09:03:05.006277Z",
     "shell.execute_reply": "2023-09-07T09:03:05.005349Z"
    },
    "jupyter": {
     "outputs_hidden": true
    },
    "papermill": {
     "duration": 0.016345,
     "end_time": "2023-09-07T09:03:05.008697",
     "exception": false,
     "start_time": "2023-09-07T09:03:04.992352",
     "status": "completed"
    },
    "tags": []
   },
   "outputs": [],
   "source": [
    "#step_2.hint()\n",
    "#step_2.solution()"
   ]
  },
  {
   "cell_type": "markdown",
   "id": "2d69df4a",
   "metadata": {
    "papermill": {
     "duration": 0.00714,
     "end_time": "2023-09-07T09:03:05.023405",
     "exception": false,
     "start_time": "2023-09-07T09:03:05.016265",
     "status": "completed"
    },
    "tags": []
   },
   "source": [
    "## Think About Your Data\n",
    "\n",
    "The newest house in your data isn't that new.  A few potential explanations for this:\n",
    "1. They haven't built new houses where this data was collected.\n",
    "1. The data was collected a long time ago. Houses built after the data publication wouldn't show up.\n",
    "\n",
    "If the reason is explanation #1 above, does that affect your trust in the model you build with this data? What about if it is reason #2?\n",
    "\n",
    "How could you dig into the data to see which explanation is more plausible?\n",
    "\n",
    "Check out this **[discussion thread](https://www.kaggle.com/learn-forum/60581)** to see what others think or to add your ideas.\n",
    "\n",
    "# Keep Going\n",
    "\n",
    "You are ready for **[Your First Machine Learning Model](https://www.kaggle.com/dansbecker/your-first-machine-learning-model).**\n"
   ]
  },
  {
   "cell_type": "markdown",
   "id": "4fb14fde",
   "metadata": {
    "papermill": {
     "duration": 0.006887,
     "end_time": "2023-09-07T09:03:05.037492",
     "exception": false,
     "start_time": "2023-09-07T09:03:05.030605",
     "status": "completed"
    },
    "tags": []
   },
   "source": [
    "---\n",
    "**[Machine Learning Course Home Page](https://www.kaggle.com/learn/machine-learning)**\n",
    "\n"
   ]
  }
 ],
 "kernelspec": {
  "display_name": "Python 3",
  "language": "python",
  "name": "python3"
 },
 "language_info": {
  "codemirror_mode": {
   "name": "ipython",
   "version": 3
  },
  "file_extension": ".py",
  "mimetype": "text/x-python",
  "name": "python",
  "nbconvert_exporter": "python",
  "pygments_lexer": "ipython3",
  "version": "3.6.4"
 },
 "metadata": {
  "kernelspec": {
   "display_name": "Python 3",
   "language": "python",
   "name": "python3"
  },
  "language_info": {
   "codemirror_mode": {
    "name": "ipython",
    "version": 3
   },
   "file_extension": ".py",
   "mimetype": "text/x-python",
   "name": "python",
   "nbconvert_exporter": "python",
   "pygments_lexer": "ipython3",
   "version": "3.10.12"
  },
  "papermill": {
   "default_parameters": {},
   "duration": 4.846839,
   "end_time": "2023-09-07T09:03:05.464398",
   "environment_variables": {},
   "exception": null,
   "input_path": "__notebook__.ipynb",
   "output_path": "__notebook__.ipynb",
   "parameters": {},
   "start_time": "2023-09-07T09:03:00.617559",
   "version": "2.4.0"
  }
 },
 "nbformat": 4,
 "nbformat_minor": 5
}
